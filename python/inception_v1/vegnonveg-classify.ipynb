{
 "cells": [
  {
   "cell_type": "markdown",
   "metadata": {},
   "source": [
    "## Train and Test Classifiers"
   ]
  },
  {
   "cell_type": "code",
   "execution_count": 13,
   "metadata": {},
   "outputs": [],
   "source": [
    "from os import path\n",
    "import urllib\n",
    "\n",
    "\n",
    "if not path.exists('bottlenecks_with_labels.pkl'):\n",
    "    os.system('wget https://s3-us-west-2.amazonaws.com/vegnonveg/bottlenecks_with_labels.pkl')\n",
    "if not path.exists('labels_bigdl_classifier.pkl'):\n",
    "    os.system('wget https://s3-us-west-2.amazonaws.com/vegnonveg/labels_bigdl_classifier.pkl')"
   ]
  },
  {
   "cell_type": "code",
   "execution_count": 14,
   "metadata": {
    "collapsed": true
   },
   "outputs": [],
   "source": [
    "import pickle\n",
    "import numpy as np\n",
    "\n",
    "#Import all the required packages\n",
    "from bigdl.nn.layer import *\n",
    "from optparse import OptionParser\n",
    "from bigdl.nn.criterion import *\n",
    "from bigdl.optim.optimizer import *\n",
    "from bigdl.util.common import *\n",
    "from bigdl.dataset.transformer import *\n",
    "from bigdl.nn.initialization_method import *\n",
    "from transformer import *\n",
    "from imagenet import *\n",
    "from transformer import Resize\n",
    "from sklearn.model_selection import train_test_split, cross_val_score, StratifiedKFold\n",
    "from sklearn.neural_network import MLPClassifier\n",
    "from sklearn.metrics import precision_recall_fscore_support\n",
    "from sklearn.linear_model import SGDClassifier, LogisticRegression"
   ]
  },
  {
   "cell_type": "code",
   "execution_count": 15,
   "metadata": {},
   "outputs": [
    {
     "name": "stdout",
     "output_type": "stream",
     "text": [
      "{'Chicken eggs, caged hen, large size': 0, 'Fresh bananas, standard': 1, 'Fresh onions': 2, 'Fresh cucumber': 3, 'Fresh apple, red delicious': 4, 'Fresh potatoes, brown': 5, 'Fresh carrots': 6, 'Fresh oranges': 7, 'Fresh apples, typical local variety': 8}\n"
     ]
    }
   ],
   "source": [
    "data = pickle.load(open(\"./bottlenecks_with_labels.pkl\", 'rb'))\n",
    "label_nums = pickle.load(open(\"./labels_bigdl_classifier.pkl\", 'rb'))\n",
    "print label_nums"
   ]
  },
  {
   "cell_type": "markdown",
   "metadata": {},
   "source": [
    "## Use Stratified Train/Test Split\n",
    "To make sure we have the same distribution of samples across labels in both train and test sets."
   ]
  },
  {
   "cell_type": "code",
   "execution_count": 16,
   "metadata": {},
   "outputs": [
    {
     "data": {
      "text/plain": [
       "(1541, 1541, 386, 386)"
      ]
     },
     "execution_count": 16,
     "metadata": {},
     "output_type": "execute_result"
    }
   ],
   "source": [
    "\n",
    "x_train, x_test, train_labels, test_labels = \\\n",
    "    train_test_split(data['bottleneck_values'], \n",
    "                     data['labels'], \n",
    "                     test_size=0.2, \n",
    "                     random_state=101,\n",
    "                     stratify=data['labels'])\n",
    "len(x_train), len(train_labels), len(x_test), len(test_labels)"
   ]
  },
  {
   "cell_type": "code",
   "execution_count": 17,
   "metadata": {
    "collapsed": true
   },
   "outputs": [],
   "source": [
    "_, train_counts = np.unique(np.array(train_labels), return_counts=True)\n",
    "train_counts = train_counts.astype(np.float) / len(train_labels)"
   ]
  },
  {
   "cell_type": "code",
   "execution_count": 18,
   "metadata": {},
   "outputs": [
    {
     "data": {
      "text/plain": [
       "array([ 2.28812638,  0.19430052, -1.21141356,  1.36848522,  0.19430052,\n",
       "       -0.32824241, -0.27871228, -0.77468686, -1.03786861])"
      ]
     },
     "execution_count": 18,
     "metadata": {},
     "output_type": "execute_result"
    }
   ],
   "source": [
    "_, test_counts = np.unique(np.array(test_labels), return_counts=True)\n",
    "test_counts = test_counts.astype(np.float) / len(test_labels)\n",
    "# Difference in labels counts, %\n",
    "(train_counts - test_counts) / train_counts * 100"
   ]
  },
  {
   "cell_type": "markdown",
   "metadata": {},
   "source": [
    "## Classifier #1: BigDL Logistic Regression"
   ]
  },
  {
   "cell_type": "code",
   "execution_count": 19,
   "metadata": {
    "collapsed": true
   },
   "outputs": [],
   "source": [
    "# get rdd\n",
    "def get_rdd_sample(images, labels):\n",
    "    labels = map(lambda(word): label_nums[word] + 1, labels)\n",
    "    imgs = sc.parallelize(images)\n",
    "    labels = sc.parallelize(labels)\n",
    "    sample_rdd = imgs.zip(labels).map(lambda(bottleneck, label): Sample.from_ndarray(bottleneck, np.array(label)))\n",
    "    return sample_rdd\n",
    "\n"
   ]
  },
  {
   "cell_type": "code",
   "execution_count": 20,
   "metadata": {},
   "outputs": [],
   "source": [
    "train_rdd = get_rdd_sample(x_train, train_labels)\n",
    "test_rdd = get_rdd_sample(x_test, test_labels)"
   ]
  },
  {
   "cell_type": "markdown",
   "metadata": {},
   "source": [
    "## Define Model"
   ]
  },
  {
   "cell_type": "code",
   "execution_count": 23,
   "metadata": {
    "collapsed": true
   },
   "outputs": [],
   "source": [
    "# initializing BigDL engine\n",
    "init_engine()"
   ]
  },
  {
   "cell_type": "code",
   "execution_count": 24,
   "metadata": {},
   "outputs": [
    {
     "name": "stdout",
     "output_type": "stream",
     "text": [
      "creating: createSequential\n",
      "creating: createLinear\n",
      "creating: createLogSoftMax\n"
     ]
    }
   ],
   "source": [
    "# Parameters\n",
    "learning_rate = 0.2\n",
    "training_epochs = 40\n",
    "batch_size = 60\n",
    "\n",
    "# Network Parameters\n",
    "n_input = 1024 # 1024\n",
    "n_classes = len(label_nums) # item_name categories\n",
    "\n",
    "def fc_layer(n_input, n_classes):\n",
    "    model = Sequential()\n",
    "    model.add(Linear(n_input, n_classes))\n",
    "    model.add(LogSoftMax())\n",
    "    return model # Create an Optimizer\n",
    "\n",
    "model = fc_layer(n_input, n_classes)"
   ]
  },
  {
   "cell_type": "code",
   "execution_count": 25,
   "metadata": {},
   "outputs": [
    {
     "name": "stdout",
     "output_type": "stream",
     "text": [
      "creating: createClassNLLCriterion\n",
      "creating: createDefault\n",
      "creating: createSGD\n",
      "creating: createMaxEpoch\n",
      "creating: createOptimizer\n",
      "creating: createEveryEpoch\n",
      "creating: createTop1Accuracy\n",
      "creating: createTrainSummary\n",
      "creating: createSeveralIteration\n",
      "creating: createValidationSummary\n",
      "saving logs to  vegnonveg\n"
     ]
    }
   ],
   "source": [
    "optimizer = Optimizer(\n",
    "    model=model,\n",
    "    training_rdd=train_rdd,\n",
    "    criterion=ClassNLLCriterion(),\n",
    "    optim_method=SGD(learningrate=learning_rate),\n",
    "    end_trigger=MaxEpoch(training_epochs),\n",
    "    batch_size=batch_size)\n",
    "# Set the validation logic\n",
    "optimizer.set_validation(\n",
    "    batch_size=batch_size,\n",
    "    val_rdd=test_rdd,\n",
    "    trigger=EveryEpoch(),\n",
    "    val_method=[Top1Accuracy()]\n",
    ")\n",
    "\n",
    "app_name= 'vegnonveg' # + dt.datetime.now().strftime(\"%Y%m%d-%H%M%S\")\n",
    "train_summary = TrainSummary(log_dir='/tmp/bigdl_summaries',\n",
    "                                     app_name=app_name)\n",
    "train_summary.set_summary_trigger(\"Parameters\", SeveralIteration(50))\n",
    "val_summary = ValidationSummary(log_dir='/tmp/bigdl_summaries',\n",
    "                                        app_name=app_name)\n",
    "optimizer.set_train_summary(train_summary)\n",
    "optimizer.set_val_summary(val_summary)\n",
    "print \"saving logs to \",app_name"
   ]
  },
  {
   "cell_type": "code",
   "execution_count": 26,
   "metadata": {},
   "outputs": [
    {
     "name": "stdout",
     "output_type": "stream",
     "text": [
      "Optimization Done.\n"
     ]
    }
   ],
   "source": [
    "# Start to train\n",
    "trained_model = optimizer.optimize()\n",
    "print \"Optimization Done.\""
   ]
  },
  {
   "cell_type": "code",
   "execution_count": 27,
   "metadata": {
    "collapsed": true
   },
   "outputs": [],
   "source": [
    "def map_predict_label(l):\n",
    "    return np.array(l).argmax()\n",
    "def map_groundtruth_label(l):\n",
    "    return l[0] - 1\n",
    "def map_to_label(l):\n",
    "    return label_nums.keys()[label_nums.values().index(l)]"
   ]
  },
  {
   "cell_type": "code",
   "execution_count": 28,
   "metadata": {},
   "outputs": [
    {
     "name": "stdout",
     "output_type": "stream",
     "text": [
      "1 ) Ground Truth label:  Fresh potatoes, brown\n",
      "1 ) Predicted label:  Fresh onions\n",
      "wrong\n",
      "2 ) Ground Truth label:  Fresh apples, typical local variety\n",
      "2 ) Predicted label:  Fresh apples, typical local variety\n",
      "correct\n",
      "3 ) Ground Truth label:  Fresh cucumber\n",
      "3 ) Predicted label:  Fresh oranges\n",
      "wrong\n",
      "4 ) Ground Truth label:  Fresh cucumber\n",
      "4 ) Predicted label:  Fresh cucumber\n",
      "correct\n",
      "5 ) Ground Truth label:  Fresh apples, typical local variety\n",
      "5 ) Predicted label:  Fresh apples, typical local variety\n",
      "correct\n",
      "6 ) Ground Truth label:  Fresh cucumber\n",
      "6 ) Predicted label:  Fresh cucumber\n",
      "correct\n",
      "7 ) Ground Truth label:  Fresh carrots\n",
      "7 ) Predicted label:  Fresh carrots\n",
      "correct\n",
      "8 ) Ground Truth label:  Fresh potatoes, brown\n",
      "8 ) Predicted label:  Fresh potatoes, brown\n",
      "correct\n"
     ]
    }
   ],
   "source": [
    "'''\n",
    "Look at some predictions and their accuracy\n",
    "'''\n",
    "predictions = trained_model.predict(test_rdd)\n",
    "\n",
    "num_preds = 8\n",
    "truth = test_rdd.take(num_preds)\n",
    "preds = predictions.take(num_preds)\n",
    "\n",
    "for idx in range(num_preds):\n",
    "    true_label = str(map_to_label(map_groundtruth_label(truth[idx].label)))\n",
    "    pred_label = str(map_to_label(map_predict_label(preds[idx])))\n",
    "    print idx + 1, ')', 'Ground Truth label: ', true_label\n",
    "    print idx + 1, ')', 'Predicted label: ', pred_label\n",
    "    print \"correct\" if true_label == pred_label else \"wrong\""
   ]
  },
  {
   "cell_type": "code",
   "execution_count": 29,
   "metadata": {},
   "outputs": [
    {
     "name": "stdout",
     "output_type": "stream",
     "text": [
      "creating: createTop1Accuracy\n",
      "Test result: 0.712435245514, total_num: 386, method: Top1Accuracy\n"
     ]
    }
   ],
   "source": [
    "'''\n",
    "Measure Test Accuracy w/Test Set\n",
    "'''\n",
    "results = trained_model.test(test_rdd, len(x_test), [Top1Accuracy()])\n",
    "print(results[0])"
   ]
  },
  {
   "cell_type": "markdown",
   "metadata": {},
   "source": [
    "## Classifier #2: Neural Net"
   ]
  },
  {
   "cell_type": "code",
   "execution_count": 30,
   "metadata": {
    "collapsed": true
   },
   "outputs": [],
   "source": [
    "clf = MLPClassifier(hidden_layer_sizes=(512,))"
   ]
  },
  {
   "cell_type": "code",
   "execution_count": 31,
   "metadata": {},
   "outputs": [
    {
     "name": "stdout",
     "output_type": "stream",
     "text": [
      "CPU times: user 1min 8s, sys: 12.9 s, total: 1min 21s\n",
      "Wall time: 1min 13s\n"
     ]
    },
    {
     "data": {
      "text/plain": [
       "array([ 0.70599613,  0.68677043,  0.68235294])"
      ]
     },
     "execution_count": 31,
     "metadata": {},
     "output_type": "execute_result"
    }
   ],
   "source": [
    "%%time \n",
    "cross_val_score(clf, x_train, train_labels, cv=StratifiedKFold(n_splits=3), scoring='accuracy')"
   ]
  },
  {
   "cell_type": "markdown",
   "metadata": {},
   "source": [
    "## Classifier #3: Logistic Regression"
   ]
  },
  {
   "cell_type": "code",
   "execution_count": 32,
   "metadata": {},
   "outputs": [
    {
     "name": "stdout",
     "output_type": "stream",
     "text": [
      "CPU times: user 10.4 s, sys: 137 ms, total: 10.6 s\n",
      "Wall time: 16.4 s\n"
     ]
    },
    {
     "data": {
      "text/plain": [
       "array([ 0.67117988,  0.6614786 ,  0.66666667])"
      ]
     },
     "execution_count": 32,
     "metadata": {},
     "output_type": "execute_result"
    }
   ],
   "source": [
    "%%time\n",
    "cross_val_score(LogisticRegression(), x_train, train_labels, cv=StratifiedKFold(n_splits=3), scoring='accuracy')"
   ]
  }
 ],
 "metadata": {
  "kernelspec": {
   "display_name": "Python 2",
   "language": "python",
   "name": "python2"
  }
 },
 "nbformat": 4,
 "nbformat_minor": 2
}
